{
 "cells": [
  {
   "cell_type": "markdown",
   "metadata": {},
   "source": [
    "Gaussian Process Interactive\n",
    "-----------------------"
   ]
  },
  {
   "cell_type": "code",
   "execution_count": 7,
   "metadata": {
    "collapsed": false
   },
   "outputs": [],
   "source": [
    "import numpy as np\n",
    "import matplotlib.pyplot as plt\n",
    "%matplotlib inline\n",
    "from matplotlib import rcParams\n",
    "rcParams['text.usetex'] = False\n",
    "rcParams['font.family'] = 'serif'\n",
    "rcParams['font.size'] = 25\n",
    "rcParams['figure.figsize'] = [13,7]\n",
    "from itertools import product"
   ]
  },
  {
   "cell_type": "markdown",
   "metadata": {},
   "source": [
    "Kernel Functions\n",
    "-----------------------"
   ]
  },
  {
   "cell_type": "code",
   "execution_count": 8,
   "metadata": {
    "collapsed": true
   },
   "outputs": [],
   "source": [
    "def m0(x):\n",
    "    return np.zeros([x.shape[0],1])\n",
    "\n",
    "def se_kernel(Xa, Xb, args):\n",
    "    K = np.zeros([Xa.shape[0], Xb.shape[0]])\n",
    "    for i, Xa_i in enumerate(Xa):\n",
    "        for j, Xb_j in enumerate(Xb):\n",
    "            K[i,j] = args['sigma']**2 * np.exp(-1./(2*(args['l']**2)) * np.inner(Xa_i - Xb_j, Xa_i - Xb_j))\n",
    "    return K\n",
    "\n",
    "def rq_kernel(Xa, Xb, args):\n",
    "    K = np.zeros([Xa.shape[0], Xb.shape[0]])\n",
    "    for i, Xa_i in enumerate(Xa):\n",
    "        for j, Xb_j in enumerate(Xb):\n",
    "            K[i,j] = args['sigma']**2 * (1 + np.inner(Xa_i - Xb_j, Xa_i - Xb_j) / \n",
    "                                         (2. * args['alpha'] * args['l']**2)) ** (-args['alpha'])\n",
    "    return K\n",
    "\n",
    "def lin_kernel(Xa, Xb, args):\n",
    "    K = np.zeros([Xa.shape[0], Xb.shape[0]])\n",
    "    for i, Xa_i in enumerate(Xa):\n",
    "        for j, Xb_j in enumerate(Xb):\n",
    "            K[i, j] = args['sigma_b']**2 + args['sigma_v']**2 * np.inner(Xa_i - args['c'], Xb_j - args['c'])\n",
    "    return K\n",
    "\n",
    "def per_kernel(Xa, Xb, args):\n",
    "    K = np.zeros([Xa.shape[0], Xb.shape[0]])\n",
    "    for i, Xa_i in enumerate(Xa):\n",
    "        for j, Xb_j in enumerate(Xb):\n",
    "            K[i, j] = args['sigma']**2 * np.exp(-2 * np.sin(np.pi * np.inner(Xa_i - Xb_j, Xa_i - Xb_j) / args['p'])**2)\n",
    "    return K"
   ]
  },
  {
   "cell_type": "markdown",
   "metadata": {},
   "source": [
    "### Gaussian process class functions"
   ]
  },
  {
   "cell_type": "code",
   "execution_count": 9,
   "metadata": {
    "collapsed": true
   },
   "outputs": [],
   "source": [
    "class GP:   \n",
    "   \n",
    "    def __init__(self, meanfun='m0', kernel='se', kernelargs={'l':.1, 'sigma':.1}, noise_sigma=0):\n",
    "        if meanfun=='m0':\n",
    "            self.m = m0\n",
    "        else:\n",
    "            raise NotImplementedError('This mean function is not implemented.')\n",
    "        \n",
    "        if kernel=='se':\n",
    "            self.k = se_kernel\n",
    "        elif kernel=='rq':\n",
    "            self.k = rq_kernel\n",
    "        elif kernel == 'per':\n",
    "            self.k = per_kernel\n",
    "        elif kernel == 'lin':\n",
    "            self.k = lin_kernel\n",
    "        else:\n",
    "            raise NotImplementedError('This kernel function is not implemented.')\n",
    "            \n",
    "        self.kernelargs = kernelargs\n",
    "        self.noise_sigma = noise_sigma\n",
    "                                      \n",
    "    def fit(self, X, f):\n",
    "        assert(X.shape[0]==f.shape[0])\n",
    "        self.X = X\n",
    "        self.f = f\n",
    "    \n",
    "    def predict(self, Xstar):\n",
    "        K = self.k(self.X, self.X, self.kernelargs) + self.noise_sigma * np.identity(self.X.shape[0])\n",
    "        Kinv = np.linalg.inv(K)\n",
    "        Kstar = self.k(self.X, Xstar, self.kernelargs)\n",
    "        Kstarstar = self.k(Xstar, Xstar, self.kernelargs)\n",
    "        mustar = self.m(Xstar) + np.dot(np.dot(Kstar.T,Kinv), (self.f-self.m(self.X)))\n",
    "        Sigmastar = Kstarstar - np.dot(np.dot(Kstar.T,Kinv),Kstar)\n",
    "        return mustar, Sigmastar\n",
    "    \n",
    "    def plot(self, Xstar, fstar, fstarstd):\n",
    "        upper = fstar-2*np.sqrt(np.diag(fstarstd))[:,np.newaxis]\n",
    "        lower = fstar+2*np.sqrt(np.diag(fstarstd))[:,np.newaxis]\n",
    "        plt.fill_between(np.squeeze(Xstar),np.squeeze(lower), np.squeeze(upper), color='.9', alpha=.5)\n",
    "        plt.plot(Xstar,fstar, 'k', linewidth=3.)\n",
    "        plt.scatter(self.X, self.f, c='k', marker='o', s=100)\n",
    "        plt.xlim([min(Xstar), max(Xstar)])\n",
    "        \n",
    "    def plot_expectation(self, Xstar, **kwargs):\n",
    "        fstar, fstarstd = self.predict(Xstar)\n",
    "        plt.plot(Xstar, fstar, **kwargs)\n",
    "        \n",
    "    def plot_predict(self, Xstar):\n",
    "        fstar, fstarstd = self.predict(Xstar)\n",
    "        self.plot(Xstar, fstar, fstarstd)      \n",
    "        \n",
    "    def plot_prior(self, Xstar, N_lines=1, plot_lines = True, plot_expectation=True, plot_funmean=True, plot_std=True, plot_funstd = False):\n",
    "        mu = np.squeeze(self.m(Xstar))\n",
    "        Sigma = self.k(Xstar, Xstar, self.kernelargs)\n",
    "        kk = np.sqrt(np.diag(Sigma))\n",
    "        if plot_std:\n",
    "            plt.fill_between(Xstar, mu-2*kk, mu+2*kk, color='.9')\n",
    "        MVN = np.random.multivariate_normal(mu, Sigma, N_lines)\n",
    "        if plot_lines:\n",
    "            plt.plot(Xstar,MVN.T) #, label='samples from the prior')\n",
    "        if plot_expectation:\n",
    "            plt.plot(Xstar, mu, color='.4', linewidth=5., alpha=.5)\n",
    "        if plot_funmean:\n",
    "            plt.plot(Xstar,MVN.mean(axis=0), color='k', linewidth=5., alpha=.8) #, label='mean of samples (other colors) drawn from the GP prior')\n",
    "        if plot_funstd:\n",
    "            fstd = MVN.std(axis=0)\n",
    "            plt.fill_between(Xstar, mu-2*fstd, mu+2*fstd, color='pink', alpha=.3)\n",
    "        plt.xlim([min(Xstar),max(Xstar)])\n",
    "    \n",
    "    def plot_posterior(self, Xstar, N_lines=1, plot_lines = True, plot_expectation=True, plot_funmean=True, plot_std=True, plot_funstd = False):\n",
    "        mustar, Sigmastar = self.predict(Xstar)\n",
    "        if plot_std:\n",
    "            kk = np.sqrt(np.diag(Sigmastar))\n",
    "            plt.fill_between(Xstar, np.squeeze(mustar)-2*kk, np.squeeze(mustar)+2*kk, color='.9')\n",
    "        MVN = np.random.multivariate_normal(np.squeeze(mustar), Sigmastar, N_lines)\n",
    "        if plot_lines:\n",
    "            plt.plot(Xstar, MVN.T)\n",
    "        if plot_expectation:\n",
    "            plt.plot(Xstar, mustar, color='.4', linewidth=5., alpha=.5)\n",
    "        if plot_funmean:\n",
    "            plt.plot(Xstar,MVN.mean(axis=0), color='k', linewidth=5., alpha=.8)\n",
    "        if plot_funstd:\n",
    "            fstd = MVN.std(axis=0)\n",
    "            plt.fill_between(Xstar, mu-2*fstd, mu+2*fstd, color='pink', alpha=.3)\n",
    "        plt.xlim([min(Xstar), max(Xstar)])"
   ]
  },
  {
   "cell_type": "markdown",
   "metadata": {},
   "source": [
    "### Plotting options"
   ]
  },
  {
   "cell_type": "code",
   "execution_count": 11,
   "metadata": {
    "collapsed": true
   },
   "outputs": [],
   "source": [
    "def set_plotting_options(plt, xlim, ylim, xlabel='$x$', ylabel='$f(x)$'):\n",
    "    plt.xlabel(xlabel)\n",
    "    plt.ylabel(ylabel)\n",
    "    plt.xlim(xlim)\n",
    "    plt.ylim(ylim)"
   ]
  }
 ],
 "metadata": {
  "kernelspec": {
   "display_name": "Python 2",
   "language": "python",
   "name": "python2"
  },
  "language_info": {
   "codemirror_mode": {
    "name": "ipython",
    "version": 2
   },
   "file_extension": ".py",
   "mimetype": "text/x-python",
   "name": "python",
   "nbconvert_exporter": "python",
   "pygments_lexer": "ipython2",
   "version": "2.7.10"
  }
 },
 "nbformat": 4,
 "nbformat_minor": 0
}
