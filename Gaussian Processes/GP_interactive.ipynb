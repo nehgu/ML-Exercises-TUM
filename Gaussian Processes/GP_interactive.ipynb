{
 "cells": [
  {
   "cell_type": "markdown",
   "metadata": {},
   "source": [
    "Gaussian Process Interactive\n",
    "-----------------------"
   ]
  },
  {
   "cell_type": "code",
   "execution_count": 7,
   "metadata": {
    "collapsed": false
   },
   "outputs": [],
   "source": [
    "import numpy as np\n",
    "import matplotlib.pyplot as plt\n",
    "%matplotlib inline\n",
    "from matplotlib import rcParams\n",
    "rcParams['text.usetex'] = False\n",
    "rcParams['font.family'] = 'serif'\n",
    "rcParams['font.size'] = 25\n",
    "rcParams['figure.figsize'] = [13,7]\n",
    "from itertools import product"
   ]
  },
  {
   "cell_type": "markdown",
   "metadata": {},
   "source": [
    "Kernel Functions\n",
    "-----------------------"
   ]
  },
  {
   "cell_type": "code",
   "execution_count": 8,
   "metadata": {
    "collapsed": true
   },
   "outputs": [],
   "source": [
    "def m0(x):\n",
    "    return np.zeros([x.shape[0],1])\n",
    "\n",
    "def se_kernel(Xa, Xb, args):\n",
    "    K = np.zeros([Xa.shape[0], Xb.shape[0]])\n",
    "    for i, Xa_i in enumerate(Xa):\n",
    "        for j, Xb_j in enumerate(Xb):\n",
    "            K[i,j] = args['sigma']**2 * np.exp(-1./(2*(args['l']**2)) * np.inner(Xa_i - Xb_j, Xa_i - Xb_j))\n",
    "    return K\n",
    "\n",
    "def rq_kernel(Xa, Xb, args):\n",
    "    K = np.zeros([Xa.shape[0], Xb.shape[0]])\n",
    "    for i, Xa_i in enumerate(Xa):\n",
    "        for j, Xb_j in enumerate(Xb):\n",
    "            K[i,j] = args['sigma']**2 * (1 + np.inner(Xa_i - Xb_j, Xa_i - Xb_j) / \n",
    "                                         (2. * args['alpha'] * args['l']**2)) ** (-args['alpha'])\n",
    "    return K\n",
    "\n",
    "def lin_kernel(Xa, Xb, args):\n",
    "    K = np.zeros([Xa.shape[0], Xb.shape[0]])\n",
    "    for i, Xa_i in enumerate(Xa):\n",
    "        for j, Xb_j in enumerate(Xb):\n",
    "            K[i, j] = args['sigma_b']**2 + args['sigma_v']**2 * np.inner(Xa_i - args['c'], Xb_j - args['c'])\n",
    "    return K\n",
    "\n",
    "def per_kernel(Xa, Xb, args):\n",
    "    K = np.zeros([Xa.shape[0], Xb.shape[0]])\n",
    "    for i, Xa_i in enumerate(Xa):\n",
    "        for j, Xb_j in enumerate(Xb):\n",
    "            K[i, j] = args['sigma']**2 * np.exp(-2 * np.sin(np.pi * np.inner(Xa_i - Xb_j, Xa_i - Xb_j) / args['p'])**2)\n",
    "    return K"
   ]
  }
 ],
 "metadata": {
  "kernelspec": {
   "display_name": "Python 2",
   "language": "python",
   "name": "python2"
  },
  "language_info": {
   "codemirror_mode": {
    "name": "ipython",
    "version": 2
   },
   "file_extension": ".py",
   "mimetype": "text/x-python",
   "name": "python",
   "nbconvert_exporter": "python",
   "pygments_lexer": "ipython2",
   "version": "2.7.10"
  }
 },
 "nbformat": 4,
 "nbformat_minor": 0
}
